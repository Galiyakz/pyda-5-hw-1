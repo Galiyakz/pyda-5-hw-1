{
 "cells": [
  {
   "cell_type": "code",
   "execution_count": 3,
   "metadata": {},
   "outputs": [],
   "source": [
    "purchase_log = open('data/purchase_log.txt', 'r')\n",
    "visit_log = open('data/visit_log.csv', 'r')\n"
   ]
  },
  {
   "cell_type": "code",
   "execution_count": 4,
   "metadata": {},
   "outputs": [
    {
     "data": {
      "text/plain": [
       "[{'user_id': 'user_id', 'category': 'category'},\n",
       " {'user_id': '1840e0b9d4', 'category': 'РџСЂРѕРґСѓРєС‚С‹'},\n",
       " {'user_id': '4e4f90fcfb', 'category': 'Р\\xadР»РµРєС‚СЂРѕРЅРёРєР°'},\n",
       " {'user_id': 'afea8d72fc', 'category': 'Р\\xadР»РµРєС‚СЂРѕРЅРёРєР°'},\n",
       " {'user_id': '373a6055fe', 'category': 'Р‘С‹С‚РѕРІР°СЏ С‚РµС…РЅРёРєР°'}]"
      ]
     },
     "execution_count": 4,
     "metadata": {},
     "output_type": "execute_result"
    }
   ],
   "source": [
    "lst_prch = []\n",
    "for line in purchase_log:\n",
    "    lst_prch.append(eval(line))\n",
    "\n",
    "lst_prch[:5]"
   ]
  },
  {
   "cell_type": "markdown",
   "metadata": {},
   "source": [
    "Для каждого user_id в файле visit_log.csv определите третий столбец с категорией покупки (если покупка была, сам файл visit_log.csv изменять не надо). Запишите в файл funnel.csv визиты из файла visit_log.csv, в которых были покупки с указанием категории.\n",
    "Учтите условия на данные:\n",
    "содержимое purchase_log.txt помещается в оперативную память компьютера\n",
    "содержимое visit_log.csv - нет; используйте только построчную обработку этого файла"
   ]
  },
  {
   "cell_type": "code",
   "execution_count": 5,
   "metadata": {},
   "outputs": [
    {
     "data": {
      "text/plain": [
       "[{'user_id': 'user_id', 'source': 'source'},\n",
       " {'user_id': '6450655ae8', 'source': 'other'},\n",
       " {'user_id': 'b4ea53e670', 'source': 'other'},\n",
       " {'user_id': '0e37347152', 'source': 'other'},\n",
       " {'user_id': '96064ae9e0', 'source': 'other'}]"
      ]
     },
     "execution_count": 5,
     "metadata": {},
     "output_type": "execute_result"
    }
   ],
   "source": [
    "lst_visits = []\n",
    "for line in visit_log:\n",
    "    splited_text = line.strip().split(',') \n",
    "    vist_dict = {'user_id':splited_text[0], 'source': splited_text[1]}\n",
    "    lst_visits.append(vist_dict)\n",
    "\n",
    "\n",
    "lst_visits[:5]"
   ]
  },
  {
   "cell_type": "code",
   "execution_count": null,
   "metadata": {},
   "outputs": [],
   "source": [
    "str_csv = ''\n",
    "for visit in lst_visits:\n",
    "    for purchase in lst_prch:\n",
    "        if visit['user_id'] == purchase['user_id']:\n",
    "            visit['category'] = purchase['category']\n",
    "        \n",
    "        str_csv += \"{}, {}, {} \\n\".format(visit['user_id'], visit['source'], visit.get('category', ''))\n",
    "\n"
   ]
  },
  {
   "cell_type": "code",
   "execution_count": null,
   "metadata": {},
   "outputs": [],
   "source": [
    "f = open(\"data/funnel.csv\", \"w\") \n",
    "f.write(str_csv)\n",
    "f.close()"
   ]
  },
  {
   "cell_type": "code",
   "execution_count": null,
   "metadata": {},
   "outputs": [],
   "source": []
  }
 ],
 "metadata": {
  "kernelspec": {
   "display_name": "Python 3",
   "language": "python",
   "name": "python3"
  },
  "language_info": {
   "codemirror_mode": {
    "name": "ipython",
    "version": 3
   },
   "file_extension": ".py",
   "mimetype": "text/x-python",
   "name": "python",
   "nbconvert_exporter": "python",
   "pygments_lexer": "ipython3",
   "version": "3.8.3"
  }
 },
 "nbformat": 4,
 "nbformat_minor": 4
}
