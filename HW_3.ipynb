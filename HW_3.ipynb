{
 "cells": [
  {
   "cell_type": "code",
   "execution_count": 1,
   "metadata": {},
   "outputs": [],
   "source": [
    "documents = [\n",
    "    {'type': 'passport', 'number': '2207 876234', 'name': 'Василий Гупкин'},\n",
    "    {'type': 'invoice', 'number': '11-2', 'name': 'Геннадий Покемонов'},\n",
    "    {'type': 'insurance', 'number': '10006', 'name': 'Аристарх Павлов'}\n",
    "]\n",
    "\n",
    "directories = {\n",
    "'1': ['2207 876234', '11-2'],\n",
    "'2': ['10006'],\n",
    "'3': []\n",
    "}"
   ]
  },
  {
   "cell_type": "code",
   "execution_count": 2,
   "metadata": {},
   "outputs": [],
   "source": [
    "def getOwner():\n",
    "    inp = input('Введите номер документа: ')\n",
    "    name = ''\n",
    "    for doc in documents:\n",
    "        if doc['number'] == inp: # 10006\n",
    "            name = doc['name'] # 'Василий Гупкин' , 'Геннадий Покемонов'\n",
    "    \n",
    "    if name == '': # 'Василий Гупкин'\n",
    "        print('Документ не найден в базе')\n",
    "    else:\n",
    "        print(name) \n",
    "        \n",
    "def getShelf(inp=''): # type=1\n",
    "    if inp == '':\n",
    "        inp = input('Введите номер документа: ')\n",
    "    \n",
    "    shelf = ''\n",
    "    for key, value in directories.items():\n",
    "        if inp in value: # ['2207 876234', '11-2'] # 10006\n",
    "            shelf = key  # 2\n",
    "    \n",
    "    if inp == '':\n",
    "        if shelf == '':\n",
    "            print('Документ не найден в базе')\n",
    "        else:\n",
    "            print('Документ хранится на полке:', shelf)\n",
    "    else:\n",
    "        return shelf\n",
    "        \n",
    "def getAllInfo():\n",
    "    for doc in documents:\n",
    "        text = \"№: {}, тип: {}, владелец: {}, полка хранения: {}\".format(doc['number'], doc['type'], doc['name'], \n",
    "                                                                         getShelf(inp=doc['number']))\n",
    "        print(text)\n",
    "        \n",
    "def createShelf():\n",
    "    inp = input('Введите номер полки: ')\n",
    "    if directories.get(inp, -1) == -1:\n",
    "        directories[inp] = []\n",
    "        print('Полка добавлена. Текущий перечень полок: ', list(directories.keys()))\n",
    "    else:\n",
    "        print('Такая полка уже существует. Текущий перечень полок: ', list(directories.keys()))\n",
    "        \n",
    "def deleteShelf():\n",
    "    inp = input('Введите номер полки: ')\n",
    "    if directories.get(inp, -1) == -1:\n",
    "        print('Такой полки не существует. Текущий перечень полок: ', list(directories.keys()))\n",
    "    else:\n",
    "        if len(directories[inp]) > 0:\n",
    "            print('На полке есть документа, удалите их перед удалением полки. Текущий перечень полок: ', list(directories.keys()))\n",
    "        else:\n",
    "            directories.pop(inp, None)\n",
    "            print('Полка удалена. Текущий перечень полок: ',  list(directories.keys()))\n",
    "     "
   ]
  },
  {
   "cell_type": "code",
   "execution_count": 3,
   "metadata": {},
   "outputs": [
    {
     "name": "stdout",
     "output_type": "stream",
     "text": [
      "Введите команду: p\n",
      "Введите номер документа: 10006\n",
      "Аристарх Павлов\n",
      "Введите команду: s\n",
      "Введите номер документа: 10006\n",
      "Введите команду: l\n",
      "№: 2207 876234, тип: passport, владелец: Василий Гупкин, полка хранения: 1\n",
      "№: 11-2, тип: invoice, владелец: Геннадий Покемонов, полка хранения: 1\n",
      "№: 10006, тип: insurance, владелец: Аристарх Павлов, полка хранения: 2\n",
      "Введите команду: as\n",
      "Введите номер полки: 2\n",
      "Такая полка уже существует. Текущий перечень полок:  ['1', '2', '3']\n",
      "Введите команду: ds\n",
      "Введите номер полки: q\n",
      "Такой полки не существует. Текущий перечень полок:  ['1', '2', '3']\n",
      "Введите команду: q\n"
     ]
    }
   ],
   "source": [
    "while True:\n",
    "    inp = input('Введите команду: ')\n",
    "    if inp == 'p':\n",
    "        getOwner()\n",
    "    elif inp == 's':\n",
    "        getShelf()\n",
    "    elif inp == 'l':\n",
    "        getAllInfo()\n",
    "    elif inp == 'as':\n",
    "        createShelf()\n",
    "    elif inp == 'ds':\n",
    "        deleteShelf()\n",
    "    elif inp == 'q':\n",
    "        break\n",
    "    "
   ]
  },
  {
   "cell_type": "code",
   "execution_count": null,
   "metadata": {},
   "outputs": [],
   "source": []
  }
 ],
 "metadata": {
  "kernelspec": {
   "display_name": "Python 3",
   "language": "python",
   "name": "python3"
  },
  "language_info": {
   "codemirror_mode": {
    "name": "ipython",
    "version": 3
   },
   "file_extension": ".py",
   "mimetype": "text/x-python",
   "name": "python",
   "nbconvert_exporter": "python",
   "pygments_lexer": "ipython3",
   "version": "3.8.3"
  }
 },
 "nbformat": 4,
 "nbformat_minor": 4
}
