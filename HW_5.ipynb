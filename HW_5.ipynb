{
 "cells": [
  {
   "cell_type": "code",
   "execution_count": 1,
   "metadata": {},
   "outputs": [],
   "source": [
    "import datetime\n"
   ]
  },
  {
   "cell_type": "markdown",
   "metadata": {},
   "source": [
    "<b>Задание 1</b> <br>\n",
    "Печатные газеты использовали свой формат дат для каждого выпуска. Для каждой газеты из списка напишите формат указанной даты для перевода в объект datetime: <br>\n",
    "The Moscow Times - Wednesday, October 2, 2002 <br>\n",
    "The Guardian - Friday, 11.10.13 <br>\n",
    "Daily News - Thursday, 18 August 1977<br>"
   ]
  },
  {
   "cell_type": "code",
   "execution_count": 2,
   "metadata": {},
   "outputs": [
    {
     "name": "stdout",
     "output_type": "stream",
     "text": [
      "Wednesday, October 02, 2002\n"
     ]
    }
   ],
   "source": [
    "# The Moscow Times - Wednesday, October 2, 2002\n",
    "\n",
    "msc = datetime.datetime(2002, 10, 2)\n",
    "print(msc.strftime('%A, %B %d, %Y'))"
   ]
  },
  {
   "cell_type": "code",
   "execution_count": 3,
   "metadata": {},
   "outputs": [
    {
     "name": "stdout",
     "output_type": "stream",
     "text": [
      "Friday, 11.10.13\n"
     ]
    }
   ],
   "source": [
    "#The Guardian - Friday, 11.10.13\n",
    "\n",
    "grd = datetime.datetime (2013,10,11)\n",
    "print (grd.strftime ('%A, %d.%m.%y') )"
   ]
  },
  {
   "cell_type": "code",
   "execution_count": 4,
   "metadata": {},
   "outputs": [
    {
     "name": "stdout",
     "output_type": "stream",
     "text": [
      "Thursday, 18 August 1977\n"
     ]
    }
   ],
   "source": [
    "# Daily News - Thursday, 18 August 1977\n",
    "dn=datetime.datetime (1977,8,18)\n",
    "print (dn.strftime ('%A, %d %B %Y'))"
   ]
  },
  {
   "cell_type": "markdown",
   "metadata": {},
   "source": [
    "<b>Задание 2 </b> <br>\n",
    "Дан поток дат в формате YYYY-MM-DD, в которых встречаются некорректные значения: <br>\n",
    "stream = [‘2018-04-02’, ‘2018-02-29’, ‘2018-19-02’] <br>\n",
    "Напишите функцию, которая проверяет эти даты на корректность. Т. е. для каждой даты возвращает True (дата корректна) или False (некорректная дата)."
   ]
  },
  {
   "cell_type": "code",
   "execution_count": 5,
   "metadata": {},
   "outputs": [
    {
     "name": "stdout",
     "output_type": "stream",
     "text": [
      "[True, False, False]\n"
     ]
    }
   ],
   "source": [
    "stream = ['2018-04-02', '2018-02-29', '2018-19-02']\n",
    "date_format = '%Y-%m-%d'\n",
    "correct = []\n",
    "for item in stream:\n",
    "    try: \n",
    "        datetime.datetime.strptime (item,date_format)\n",
    "        correct.append (True)\n",
    "    except ValueError:\n",
    "        correct.append (False)\n",
    "print(correct)"
   ]
  },
  {
   "cell_type": "markdown",
   "metadata": {},
   "source": [
    "<b>Задание 3</b> <br>\n",
    "Напишите функцию date_range, которая возвращает список дат за период от start_date до end_date. Даты должны вводиться в формате YYYY-MM-DD. В случае неверного формата или при start_date > end_date должен возвращаться пустой список.\n"
   ]
  },
  {
   "cell_type": "code",
   "execution_count": 6,
   "metadata": {},
   "outputs": [],
   "source": [
    "def date_range(start_date, end_data):\n",
    "    date_format = '%Y-%m-%d'\n",
    "    try:\n",
    "        start = datetime.datetime.strptime(start_date, date_format)\n",
    "        end = datetime.datetime.strptime(end_data, date_format)\n",
    "\n",
    "        btw = (end-start).days\n",
    "        date_list = []\n",
    "\n",
    "        for i in range(btw+1):\n",
    "            date_list.append(start+datetime.timedelta(days=i))\n",
    "\n",
    "        print(date_list)\n",
    "\n",
    "\n",
    "\n",
    "    except ValueError:\n",
    "        print('Error')"
   ]
  },
  {
   "cell_type": "code",
   "execution_count": null,
   "metadata": {},
   "outputs": [],
   "source": []
  }
 ],
 "metadata": {
  "kernelspec": {
   "display_name": "Python 3",
   "language": "python",
   "name": "python3"
  },
  "language_info": {
   "codemirror_mode": {
    "name": "ipython",
    "version": 3
   },
   "file_extension": ".py",
   "mimetype": "text/x-python",
   "name": "python",
   "nbconvert_exporter": "python",
   "pygments_lexer": "ipython3",
   "version": "3.8.3"
  }
 },
 "nbformat": 4,
 "nbformat_minor": 4
}
